{
 "cells": [
  {
   "cell_type": "markdown",
   "metadata": {},
   "source": [
    "# 그리디 알고리즘\n",
    "- 그리드 알고리즘은 현재 상황에서 지금 당장 좋은 것만 고르는 방법을 의미  \n",
    "- 문제를 풀기 위한 최소한의 아이디어를 떠올릴 수 있는 능력을 요구한다.  \n",
    "- 그리디 해법은 정당성 분석이 중요하다.  \n",
    "    - 단순히 가장 좋아 보이는 것을 반복적으로 선택해도 최적의 해를 구할 수 있는지 검토한다.  "
   ]
  },
  {
   "cell_type": "markdown",
   "metadata": {},
   "source": [
    "## **[그리디 알고리즘 문제1]** \n",
    "### [문제] 1이 될려면 몇번의 연산을 해야할까?  \n",
    "- 어떠한 수 N이 될 때까지 두 과정 중 하나를 반복적으로 선택하여 수행한다.    \n",
    "- 단 두번째 연산은 N이 K나누어 떨어질 떄만 선택 할 수 있다.    \n",
    "1. N에서 1을 뺸다.    \n",
    "2. N을 K로 나눈다.    \n",
    "\n",
    "**포인트** : <u>최대한 많이 나누기</u> "
   ]
  },
  {
   "cell_type": "code",
   "execution_count": 21,
   "metadata": {},
   "outputs": [
    {
     "name": "stdout",
     "output_type": "stream",
     "text": [
      "6\n"
     ]
    }
   ],
   "source": [
    "# n,k= map(int,input().split())\n",
    "n=25\n",
    "k=3\n",
    "result =0\n",
    "\n",
    "while True:\n",
    "    target=(n//k)*k\n",
    "    result += (n-target)\n",
    "    n=target\n",
    "    \n",
    "\n",
    "    if(n<k):\n",
    "        break\n",
    "    result +=1\n",
    "    n//=k\n",
    "\n",
    "result+=(n-1)\n",
    "print(result)"
   ]
  },
  {
   "cell_type": "markdown",
   "metadata": {},
   "source": [
    "## **[그리디 알고리즘 문제2]**   \n",
    "### [문제] 곱하기 혹은 더하기해서 가장 큰수 구하기  \n",
    "- 사칙연산 무시하고 앞에서부터 연산진행\n",
    "\n",
    "**포인트** : <u>두 수 중에 하나라도 1이하인 경우는 더하기 나머지는 곱하기</u>"
   ]
  },
  {
   "cell_type": "code",
   "execution_count": 20,
   "metadata": {},
   "outputs": [
    {
     "name": "stdout",
     "output_type": "stream",
     "text": [
      "36\n"
     ]
    }
   ],
   "source": [
    "# data = input(\"What\")\n",
    "data=str(1234)\n",
    "result=int(data[0])\n",
    "\n",
    "for i in range(1,len(data)):\n",
    "    num= int(data[i])\n",
    "    if num <=1 or result <=1:\n",
    "        result = result + num\n",
    "    else:\n",
    "        result = result * num\n",
    "print(result) "
   ]
  },
  {
   "cell_type": "markdown",
   "metadata": {},
   "source": [
    "## **[그리디 알고리즘 문제3]**   \n",
    "### [문제] 여행 떠날 수 있는 그룹수의 최댓값을 구하는 프로그램을 작성하세요\n",
    "- 모험가 길드에서 N명의 모험가를 대상으로 공포도를 측정함  \n",
    "- 모험가 그룹을 안전하게 구성하고자 공포도가 X인 모험가는 반드시 X명 이상으로 구성한 모험가 그룹에 참여할 수 있다.  \n",
    "- 최대 몇개의 모험가 그룹을 만들 수 있을지 궁금하다  \n",
    "**포인트** <u>오름차순</u> "
   ]
  },
  {
   "cell_type": "markdown",
   "metadata": {},
   "source": [
    "### 아이디어\n",
    "예를 들어 group을 임의로 지정하고 진행  \n",
    "우선 공포도를 유니크값을 리스트형태로 만들었다.  \n",
    "for문을 통해서 group의 공포도 수치와 공포도 개수가 동일한 경우에만 결과값에 1을 더해서 최댓값 작성  "
   ]
  },
  {
   "cell_type": "code",
   "execution_count": 97,
   "metadata": {},
   "outputs": [
    {
     "name": "stdout",
     "output_type": "stream",
     "text": [
      "[1, 2, 3, 4, 5, 6, 7, 77]\n",
      "[1, 2, 2, 2, 3, 3, 3, 3, 4, 4, 4, 4, 4, 4, 4, 5, 5, 5, 5, 5, 5, 5, 5, 5, 6, 7, 77]\n",
      "5\n"
     ]
    }
   ],
   "source": [
    "# 내 코드\n",
    "group=[4,4,4,4,3,3,3,2,2,4,7,4,5,5,5,5,5,1,2,3,4,5,5,5,5,6,77]\n",
    "group_sort =group.sort()\n",
    "result=0\n",
    "# 중복된 값 제거한 리스트 작성\n",
    "lst=list(set(group)) \n",
    "#print(num)\n",
    "# group 데이터에서 해당 숫자 카운트해서 조건 만족시킨 경우 결과값 +1하기\n",
    "for num in lst: \n",
    "    if num <= group.count(num):\n",
    "        result+=1\n",
    "print(lst)\n",
    "print(group)\n",
    "print(result)\n",
    "    \n"
   ]
  },
  {
   "cell_type": "markdown",
   "metadata": {},
   "source": [
    "#"
   ]
  },
  {
   "cell_type": "code",
   "execution_count": 96,
   "metadata": {},
   "outputs": [
    {
     "name": "stdout",
     "output_type": "stream",
     "text": [
      "[1, 2, 2, 2, 3, 3, 3, 3, 4, 4, 4, 4, 4, 4, 4, 5, 5, 5, 5, 5, 5, 5, 5, 5, 6, 7, 77]\n",
      "7\n"
     ]
    }
   ],
   "source": [
    "# 답안 예시\n",
    "# n=int(input())\n",
    "# data=list(map(int,input().split()))\n",
    "# data.sort()\n",
    "data=[4,4,4,4,3,3,3,2,2,4,7,4,5,5,5,5,5,1,2,3,4,5,5,5,5,6,77]\n",
    "data.sort()\n",
    "\n",
    "result = 0 # 총 그룹의 수\n",
    "count = 0  # 현재 그룹에 포함된 모험가의 수\n",
    "\n",
    "for i in data: # 공포도를 낮은 것부터 하나씩 확인\n",
    "    count = count+1 # 현재 그룹에 해당 모험가를 포함시키기\n",
    "    if count >=i: # 현재 그룹에 포함된 모험가의 수가 현재의 공포도 이상이라면, 그룹 결성\n",
    "        result+=1 # 총 그룹의 수 증가시키기\n",
    "        count=0 # 현재 그룹에 포함된 모험가의 수 초기화\n",
    "print(data)\n",
    "print(result)\n"
   ]
  },
  {
   "cell_type": "markdown",
   "metadata": {},
   "source": [
    "# 구현 : 시뮬레이션과 완전 탐색\n",
    "- problem - thinking -solution\n",
    "- 풀이를 떠올리는 것은 쉽지만 소스코드로 옮기기 어려운 문제를 지칭한다.\n",
    "- 구형 유형의 예시\n",
    "    - 알고리즘은 간단한데 코드가 지나칠 만큼 길어지는 문제\n",
    "    - 실수 연산을 다루고 특정 소수점 자리까지 출력해야 하는 문제\n",
    "    - 문자열을 특정한 기준에 따라서 끊어 처리해야 하는 문제\n",
    "    - <u>적절한 라이브러리를 찾아서 사용해야 하는 문제</u>\n",
    "**많은 연습이 꼭 필요한 분야**"
   ]
  },
  {
   "cell_type": "markdown",
   "metadata": {},
   "source": [
    "## **[구현 : 시뮬레이션과 완전 탐색1]**\n",
    "### [문제] 00시00분 00초부터 h시 59분 59초까지의 모든 시각 중에서 3 이 하나라도 포함되는 모든 경우의 수를 출력하시오  \n",
    "==> 완전 탐색 문제 유형(가능한 경우의 수를 모두 검사해보는 탐색 방법을 의미)"
   ]
  },
  {
   "cell_type": "markdown",
   "metadata": {},
   "source": [
    "### 개인적인 생각\n",
    "```\n",
    "시각 \n",
    " - 기본 00시 00분 00초 ~ 00시 59분 59초까지는 디폴트값\n",
    "\n",
    "분\n",
    "- 6가지(3분~53분) + 9가지(30분~39분) = 15가지\n",
    "초\n",
    "- 6가지(3초~53초) + 9가지(30초~39초) = 15가지\n",
    "```\n"
   ]
  },
  {
   "cell_type": "code",
   "execution_count": 100,
   "metadata": {},
   "outputs": [
    {
     "name": "stdout",
     "output_type": "stream",
     "text": [
      "3150\n"
     ]
    }
   ],
   "source": [
    "# 답안 예시\n",
    "# h=int(input())\n",
    "h=1\n",
    "#00시00분 00초부터 1시 59분 59분\n",
    "\n",
    "count=0\n",
    "for i in range(h+1):\n",
    "    for j in range(60):\n",
    "        for k in range(60):\n",
    "            # 매 시간 안에 '3'이 포함되어 있다면 카운트 증가\n",
    "            if '3' in str(i)+str(j)+str(k):\n",
    "                count +=1\n",
    "print(count)"
   ]
  },
  {
   "cell_type": "markdown",
   "metadata": {},
   "source": [
    "## **[구현 : 시뮬레이션과 완전 탐색2]**\n",
    "### [문제] 8x8 좌표 평면상에서 나이트가 갈 수 있는 경우의 수 구하기  \n",
    "- (가로 a~h/ 세로 1~8) \n",
    "- ex)al\n",
    "**포인트** : <u>2차원리스트 2차원 배열</u>"
   ]
  },
  {
   "cell_type": "code",
   "execution_count": 116,
   "metadata": {},
   "outputs": [
    {
     "name": "stdout",
     "output_type": "stream",
     "text": [
      "2\n"
     ]
    }
   ],
   "source": [
    "# 답안 예시\n",
    "input_data = \"a1\"\n",
    "row=int(input_data[1])\n",
    "column=int(ord(input_data[0])) -int(ord('a')) +1\n",
    "sit= (row,column)\n",
    "# print(sit)\n",
    "\n",
    "# 나이트가 이동할 수 있는 8가지 방향\n",
    "steps=[(-2,-1),(-1,-2),(1,-2),(2,-1),(2,1),(1,2),(-1,2),(-2,1)]\n",
    "\n",
    "# 이동이 가능한지 확인\n",
    "result=0\n",
    "for step in steps:\n",
    "    # 가능한 위치 좌표 작성\n",
    "    x=sit[0] + step[0]\n",
    "    y=sit[1]+step[1]\n",
    "    #print((x,y))\n",
    "    # 가능여부 판단\n",
    "    if x>=1 and x <=8 and y>=1 and y<= 8:\n",
    "        result +=1\n",
    "        \n",
    "print(result)\n",
    "   \n",
    "    "
   ]
  },
  {
   "cell_type": "markdown",
   "metadata": {},
   "source": [
    "## **[구현 : 시뮬레이션과 완전 탐색3]**\n",
    "### [문제] 문자열 재정렬  \n",
    "- 알파벳 대문자와 숫자(0~9)로만 구성된 문자열이 입력으로 주어진다.  \n",
    "- 이떄 모든 알파벳을 오름차순으로 정렬하여 이어서 출력한 뒤에 그 뒤에 모든 숫자를 더한 값을 이어서 출력한다.  \n",
    "ex) K1KA5CB7 => ABCKK13"
   ]
  },
  {
   "cell_type": "code",
   "execution_count": 165,
   "metadata": {},
   "outputs": [
    {
     "name": "stdout",
     "output_type": "stream",
     "text": [
      "ABCKK13\n"
     ]
    }
   ],
   "source": [
    "# 내 코드\n",
    "exam= \"K1KA5CB7\"\n",
    "alp=[]\n",
    "int_sum=[]\n",
    "for i in exam:\n",
    "    try:\n",
    "        i=int(i)\n",
    "    except:\n",
    "        i=str(i)\n",
    "    if i in range(0,10):\n",
    "        int_sum.append(i)\n",
    "    else:\n",
    "        alp.append(i)\n",
    "       \n",
    "abc=\"\".join(sorted(alp))\n",
    "#print(abc)\n",
    "\n",
    "num = str(sum(int_sum))\n",
    "#print(type(num))\n",
    "\n",
    "result=abc+num\n",
    "print(result)      \n",
    "        \n",
    "\n"
   ]
  },
  {
   "cell_type": "code",
   "execution_count": 169,
   "metadata": {},
   "outputs": [
    {
     "name": "stdout",
     "output_type": "stream",
     "text": [
      "ABCKK13\n"
     ]
    }
   ],
   "source": [
    "# 답안 예시\n",
    "# data=input()\n",
    "result=[]\n",
    "value=0\n",
    "data= \"K1KA5CB7\"\n",
    "# 문자를 하나씩 확인하기\n",
    "for x in data:\n",
    "    # 알파벳인 경우 결과 리스트에 삽입\n",
    "    if x.isalpha():\n",
    "        result.append(x)\n",
    "    # 숫자는 따로 더하기\n",
    "    else:\n",
    "        value +=int(x)\n",
    "\n",
    "# 알파벳을 오름차순으로 정렬\n",
    "result.sort()\n",
    "\n",
    "# 숫자가 하나라도 존재하는 경우 가장 뒤에 삽입\n",
    "if value !=0:\n",
    "    result.append((str(value)))\n",
    "\n",
    "print(''.join(result))"
   ]
  },
  {
   "cell_type": "markdown",
   "metadata": {},
   "source": [
    "### 알게된 방식\n",
    "isalpha() - 알파벳인지 확인하기  \n",
    "isdigit() - 숫자인지 확인하기"
   ]
  },
  {
   "cell_type": "markdown",
   "metadata": {},
   "source": []
  }
 ],
 "metadata": {
  "kernelspec": {
   "display_name": "Python 3.9.12 ('base')",
   "language": "python",
   "name": "python3"
  },
  "language_info": {
   "codemirror_mode": {
    "name": "ipython",
    "version": 3
   },
   "file_extension": ".py",
   "mimetype": "text/x-python",
   "name": "python",
   "nbconvert_exporter": "python",
   "pygments_lexer": "ipython3",
   "version": "3.9.12"
  },
  "orig_nbformat": 4,
  "vscode": {
   "interpreter": {
    "hash": "7166505faa8f697867ed099a47ad143e29bdea2dc2abec05983d875f808011d7"
   }
  }
 },
 "nbformat": 4,
 "nbformat_minor": 2
}
