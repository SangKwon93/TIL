{
 "cells": [
  {
   "cell_type": "markdown",
   "metadata": {},
   "source": [
    "# 이진 탐색 알고리즘\n",
    "- 순차 탐색 : 리스트 안에 있는 특정한 <u>데이터를 찾기 위해 앞에서부터 데이터를 하나씩 확인</u>하는 방법\n",
    "- 이진 탐색 : 정렬되어 있는 리스트에서 <u>탐색 범위를 절반씩 좁혀가며 데이터를 탐색</u>하는 방법\n",
    "    - 이진 탐색은 시작점,끝점,중간점을 이용하여 탐색 범위를 설정한다.\n",
    "- 단계마다 탐색 범위를 2로 나누는 것과 동일하므로 연산 횟수는 log2N에 비례\n",
    "- 이진 탐색의 시간 복잡도는 O(logN)을 보장"
   ]
  },
  {
   "cell_type": "markdown",
   "metadata": {},
   "source": [
    "### 알게 된 점\n",
    "```\n",
    "bisect_left(a,x): 정렬된 순서를 유지하며 배열a에 x를 삽입할 가장 왼쪽 인덱스를 반환\n",
    "bisect_right(a,x): 정렬된 순서를 유지하면서 배열a에 x를 삽입할 가장 오른쪽 인덱스를 반환\n",
    "\n",
    "```\n"
   ]
  },
  {
   "cell_type": "code",
   "execution_count": 4,
   "metadata": {},
   "outputs": [
    {
     "name": "stdout",
     "output_type": "stream",
     "text": [
      "1\n",
      "3\n"
     ]
    }
   ],
   "source": [
    "# 파이썬 이진 탐색 라이브러리\n",
    "from bisect import bisect_left,bisect_right\n",
    "a=[1,2,2,6,8]\n",
    "x=2\n",
    "\n",
    "print(bisect_left(a,x)) # 값은 인덱스의 값을 의미\n",
    "print(bisect_right(a,x))"
   ]
  },
  {
   "cell_type": "code",
   "execution_count": 5,
   "metadata": {},
   "outputs": [
    {
     "name": "stdout",
     "output_type": "stream",
     "text": [
      "6\n"
     ]
    }
   ],
   "source": [
    "# 값이 특정 범위에 속하는 데이터 개수 구하기\n",
    "from bisect import bisect_left,bisect_right\n",
    "\n",
    "def count_by_range(a,left_value,right_value):\n",
    "    right_index=bisect_right(a,right_value)\n",
    "    left_index=bisect_left(a,left_value)\n",
    "    return right_index-left_index\n",
    "\n",
    "a=[1,2,3,3,3,3,4,4,8,9]\n",
    "print(count_by_range(a,-1,3))"
   ]
  },
  {
   "cell_type": "markdown",
   "metadata": {},
   "source": [
    "## 파라메트릭 서치\n",
    "- 최적화 문제를 결정 문제(예/아니오)로 바꾸어 해결하는 기법\n",
    "    -  특정한 조건을 만족하는 가장 알맞은 값을 빠르게 찾는 최적화 문제\n",
    "- 코딩 테스트에서 파라메트릭 서치 문제는 이진 탐색을 이용하여 해결 할 수 있다."
   ]
  },
  {
   "cell_type": "markdown",
   "metadata": {},
   "source": [
    "## **[이진 탐색 알고리즘]**\n",
    "### [문제1] 손님이 요청한 총 길이가 M일때 적어도 M만큼의 떡을 얻기 위해 절단기에 설정할 수 있는 높이(H)의 최댓값을 구하시오.\n",
    "- 절단기에 높이를 지정하면 줄지어진 떡을 한번에 절단한다.\n",
    "- 높이가 긴 떡은 잘리고 낮은 떡은 안 잘린다."
   ]
  },
  {
   "cell_type": "markdown",
   "metadata": {},
   "source": [
    "#### 예시 \n",
    "떡 길이 19 15 10 17 필요한 떡의 크기 M=6  \n",
    "[step1] 시작점 0 끝점 19 중간점(자르는 높이) 9 => M=25  \n",
    "[step2] 시작점 10 끝점 19 중간점 14 => M=9  \n",
    "[step3] 시작점 15 끝점 19 중간점 17 => M=2  \n",
    "[step4] 시작점 15 끝점 16 중간점 15 => <u>M=6</u>   \n",
    "- 끝점을 중간점의 왼쪽으로 => [step3]의 중간점 17의 왼쪽 16을 선정\n",
    "  "
   ]
  },
  {
   "cell_type": "code",
   "execution_count": 22,
   "metadata": {},
   "outputs": [
    {
     "name": "stdout",
     "output_type": "stream",
     "text": [
      "15\n"
     ]
    }
   ],
   "source": [
    "# 떡의 개수(N)와 요청한 떡의 길이(M)을 입력\n",
    "#n,m= list(map(int,input().split('')))\n",
    "n,m= 4,6\n",
    "\n",
    "# 각 떡의 개별 높이 정보를 입력\n",
    "array=list(map(int,input().split()))\n",
    "array=[19,15,10,17]\n",
    "\n",
    "# 이진 탐색을 위한 시작점과 끝점 설정\n",
    "start=0\n",
    "end=max(array)\n",
    "\n",
    "# 이진 탐색 수행(반복)\n",
    "result=0\n",
    "while start <= end:\n",
    "    total =0\n",
    "    mid=(start+end)//2 # // 소수점 나머지를 버리는 연산자\n",
    "    for x in array:\n",
    "        # 잘랐을 떄 떡의 양 계산 \n",
    "            if x > mid:\n",
    "                total=total+x-mid #x=15이고 mid이 9니깐 10 6 1 8 total 25 \n",
    "    # 떡의 양이 부족한 경우 더 많이 자르기(왼쪽 부분 탐색)\n",
    "    if total<m:\n",
    "        end=mid-1 # total=25 m=6이니깐 끝점을 수정한다.   \n",
    "    # 떡의 양이 충분한 경우 더 많이 자르기(오른쪽 부분 탐색)  \n",
    "    else:\n",
    "        result=mid # 최대한 덜 잘랐을 떄가 정답이므로 result 변수에 기록\n",
    "        start=mid+1\n",
    "        \n",
    "print(result)\n",
    "\n",
    "# 우선 수치를 임의로 지정하고 전반적인 원리를 터득후 에 코드로 작성하기!\n",
    "        "
   ]
  },
  {
   "cell_type": "markdown",
   "metadata": {},
   "source": [
    "## **[이진 탐색 알고리즘]**\n",
    "### [문제2] 정렬된 배열에서 x가 등장하는 횟수를 계산하세요\n",
    "- N개의 원소를 포함하고 있는 수열이 오름차순으로 정렬되어 있다.\n",
    "- <u>선형 탐색(Linear Search)</u>로는 시간 초과 판정을 받기에 <u>**이진 탐색**</u>을 수행 해야한다."
   ]
  },
  {
   "cell_type": "code",
   "execution_count": 24,
   "metadata": {},
   "outputs": [
    {
     "name": "stdout",
     "output_type": "stream",
     "text": [
      "4\n"
     ]
    }
   ],
   "source": [
    "from bisect import bisect_left,bisect_right\n",
    "\n",
    "# 값이 [left_value, right_value]인 데이터의 개수를 반환하는 함수\n",
    "def count_by_range(array,left_value,right_value):\n",
    "    right_index=bisect_right(array,right_value)\n",
    "    left_index=bisect_left(array,left_value)\n",
    "    return right_index-left_index\n",
    "# 데이터의 개수 N 찾고자 하는 값 X 입력받기\n",
    "# n=map(int,input().split()) \n",
    "# x=map(int,input().split())\n",
    "n=7\n",
    "x=2\n",
    "\n",
    "# 전체 데이터 입력받기\n",
    "#array=list(map(int,input().split()))\n",
    "array=[1,1,2,2,2,2,3]\n",
    "\n",
    "# 값이 [x,x]범위에 있는 데이터의 개수 계산\n",
    "count=count_by_range(array,x,x)\n",
    "\n",
    "# 값이 x인 원소가 존재하지 않는다면\n",
    "if count==0:\n",
    "    print(\"존재하지 않는다.\")\n",
    "else:\n",
    "    print(count)\n",
    "\n",
    "\n"
   ]
  },
  {
   "cell_type": "markdown",
   "metadata": {},
   "source": [
    "# 다이나믹 프로그래밍\n",
    "- 메모리를 적절히 사용하여 수행 시간 효율성을 비약적으로 향상시키는 방법\n",
    "- 이미 계산된 결과(작은 문제)는 별도의 메모리 영역에 저장하여 다시 계산하지 않도록 한다.\n",
    "- 다이나믹 프로그래밍의 구현은 일반적으로 두가지 방식(탑다운과 보텀업)으로 구성\n",
    "- 동적 계획법이라고도 부른다.\n",
    "- 자료구조에서 동적 할당 - **프로그램이 실행되는 도중에 실행이 필요한 메모리를 할당하는 기법**\n",
    "- 다이나믹 프로그래밍 - 다이나믹은 별다른 의미 없이 사용된 단어이다.\n",
    "\n",
    "## 다이나믹 프로그래밍의 조건\n",
    "1. 최적 부분 구조 (Optimal Substructure)\n",
    "- 큰 문제를 작은 문제로 나눌 수 있으며 작은 문제의 답을 모아서 큰 문제를 해결할 수 있다.\n",
    "2. 중복되는 부분 문제(Overlapping Subproblem)\n",
    "- 동일한 작은 문제를 반복적으로 해결해야 합니다.\n",
    "\n",
    "**대표적인 예 : 피보나치 수열**\n"
   ]
  },
  {
   "cell_type": "code",
   "execution_count": 25,
   "metadata": {},
   "outputs": [
    {
     "name": "stdout",
     "output_type": "stream",
     "text": [
      "3\n"
     ]
    }
   ],
   "source": [
    "# 피보나치 수열 : 단순 재귀 소스코드\n",
    "def fibo(x):\n",
    "    if x ==1 or x==2:\n",
    "        return 1\n",
    "    return fibo(x-1)+fibo(x-2)\n",
    "\n",
    "print(fibo(4)) "
   ]
  },
  {
   "cell_type": "markdown",
   "metadata": {},
   "source": [
    "## 하향식(탑다운)- 메모이제이션\n",
    "- 다이나믹 프로그래밍을 구현하는 방법 중 하나이다.\n",
    "- 한 번 계산한 결과를 메모리 공간에 메모하는 기법이다.\n",
    "    - 같은 문제를 다시 호출하면 메모했던 결과를 그대로 가져옵니다.\n",
    "    - 값을 기록해 놓는다는 점에서 캐싱(caching)이라고도 한다.\n",
    "- 메모이제이션은 이전에 계산된 결과를 일시적으로 기록해 놓는 넓은 개념을 의미한다.\n",
    "- 다이나믹 프로그래밍에 국한된 개념은 아니다.\n",
    "- 한번 계산된 결과를 담아 놓기만 하고 다이나믹 프로그래밍을 위해 활용하지 않을 수도 있다.\n",
    "- 다이나믹 프로그램의 전형적인 형태는 보텀업 방식 상향식이다.\n",
    "    - 결과 저장용 리스트는 DP테이블이라고 한다."
   ]
  },
  {
   "cell_type": "code",
   "execution_count": 48,
   "metadata": {},
   "outputs": [
    {
     "name": "stdout",
     "output_type": "stream",
     "text": [
      "f(9)f(8)f(7)f(6)f(5)f(4)f(3)f(2)f(1)f(2)f(3)f(4)f(5)f(6)f(7)34\n"
     ]
    }
   ],
   "source": [
    "# 피보나치 수열 : 탑다운(메모이제이션) 다이나믹 프로그래밍 \n",
    "# 시간 복잡도 O(N)\n",
    "d=[0]*10\n",
    "\n",
    "def fibo(x):\n",
    "    print('f('+ str(x)+')', end='')\n",
    "    if x==1 or x==2:\n",
    "        return 1\n",
    "    if d[x] !=0:\n",
    "        return d[x]\n",
    "    d[x]=fibo(x-1)+fibo(x-2)\n",
    "    return d[x]\n",
    "\n",
    "print(fibo(9))"
   ]
  },
  {
   "cell_type": "code",
   "execution_count": 30,
   "metadata": {},
   "outputs": [
    {
     "name": "stdout",
     "output_type": "stream",
     "text": [
      "218922995834555169026\n"
     ]
    }
   ],
   "source": [
    "# 피보나치 수열 : 보텀업 다이나믹 프로그래밍\n",
    "\n",
    "\n",
    "# 앞서 계산된 결과를 저장하기 위한 DP 테이블 초기화\n",
    "d=[0]*100\n",
    "\n",
    "d[1]=1\n",
    "d[2]=1\n",
    "n=99\n",
    "\n",
    "# 반복문으로 구현(보텀업 다이나믹 프로그래밍)\n",
    "for i in range(3,n+1):\n",
    "    d[i]=d[i-1]+d[i-2]\n",
    "\n",
    "print(d[n])"
   ]
  },
  {
   "cell_type": "markdown",
   "metadata": {},
   "source": [
    "### 다이나믹 프로그래밍 문제에 접근하는 방법\n",
    "- 다이나믹 프로그래밍 유형임을 파악하는 것이 중요하다.\n",
    "- 가장 먼저 그리디, 구현,완전 탐색 등의 아이디어로 문제를 해결할 수 있는지 검토할 수 있습니다.\n",
    "    - 다른 알고리즘으로 풀이 방법이 떠오르지 않으면 다이나믹 프로그래밍을 고려해본다.\n",
    "- 일단 재귀 함수로 비효율적인 완전 탐색 프로그램을 작성한 뒤에 (탑다운) 작은 문제에서 구한 답이 큰 문제에서 그대로 사용될 수 있으면 코드를 개선하는 방법을 사용할 수 있다.\n",
    "- 일반적인 코딩 테스트 수준에서는 <u>**기본 유형의 다이나믹 프로그래밍 문제가 출제되는 경우가 많다.**</u>"
   ]
  },
  {
   "cell_type": "markdown",
   "metadata": {},
   "source": [
    "## **[다이나믹 프로그래밍]**\n",
    "### [문제1] 식량창고에 식량 최대 값을 구하시오\n",
    "- 식량창고별 식량은 다르며 인접한 식량창고에는 약탈이 불가"
   ]
  },
  {
   "cell_type": "code",
   "execution_count": null,
   "metadata": {},
   "outputs": [],
   "source": [
    "\n",
    "# 내 코드\n",
    "#n=int(input())\n",
    "n=4\n",
    "array=[1,3,1,5]\n",
    "array[x,x+1,x+2,x+3]\n",
    "\n",
    "for i in range(0,n+1):\n",
    "    array[i+1]-array[i]\n",
    "    "
   ]
  },
  {
   "cell_type": "code",
   "execution_count": 33,
   "metadata": {},
   "outputs": [
    {
     "name": "stdout",
     "output_type": "stream",
     "text": [
      "8\n"
     ]
    }
   ],
   "source": [
    "# 답안 예시\n",
    "# n=int(input())\n",
    "n=4\n",
    "# array=list(map(int,input().split()))\n",
    "array=[1,3,1,5]\n",
    "\n",
    "d=[0]*100\n",
    "\n",
    "d[0]=array[0] #1\n",
    "d[1]=max(array[0],array[1]) #3\n",
    "\n",
    "for i in range(2,n):\n",
    "    d[i]=max(d[i-1],d[i-2]+array[i])\n",
    "    #d[2]=max(d[1],d[0]+array[2])\n",
    "    #d[3]=max(d[2],d[1]+array[3])    \n",
    "print(d[n-1])\n",
    "    \n",
    "\n"
   ]
  },
  {
   "cell_type": "markdown",
   "metadata": {},
   "source": [
    "## **[다이나믹 프로그래밍]**\n",
    "### [문제2] 연산해서 1로 만드는데 연산을 사용하는 횟수의 최솟값을 출력\n",
    "- 정수X에 사용할 수 있는 연산 4가지\n",
    "    - 5로 나누기\n",
    "    - 3으로 나누기\n",
    "    - 2로 나누기\n",
    "    - 1 빼기"
   ]
  },
  {
   "cell_type": "code",
   "execution_count": 47,
   "metadata": {},
   "outputs": [
    {
     "name": "stdout",
     "output_type": "stream",
     "text": [
      "2번째 1\n",
      "3번째 1\n",
      "4번째 2\n",
      "5번째 1\n",
      "6번째 2\n",
      "7번째 3\n",
      "8번째 3\n",
      "9번째 2\n",
      "10번째 2\n",
      "11번째 3\n",
      "12번째 3\n",
      "13번째 4\n",
      "14번째 4\n",
      "15번째 2\n",
      "16번째 3\n",
      "17번째 4\n",
      "18번째 3\n",
      "19번째 4\n",
      "20번째 3\n",
      "21번째 4\n",
      "22번째 4\n",
      "23번째 5\n",
      "24번째 4\n",
      "25번째 2\n",
      "26번째 3\n",
      "3\n"
     ]
    }
   ],
   "source": [
    " # 답안 예시\n",
    "# x= int(input())\n",
    "x=26\n",
    "d=[0]*30001\n",
    "\n",
    "# 다이나믹 프로그래밍 진행(보텀업)\n",
    "for i in range(2,x+1):\n",
    "    \n",
    "    # 현재의 수에서 1을 빼는 경우\n",
    "    d[i]=d[i-1]+1\n",
    "    # 현재의 수가 2로 나누어 떨어지는 경우\n",
    "    if i%2 ==0:\n",
    "        d[i]= min(d[i],d[i//2]+1)\n",
    "    if i%3 ==0:\n",
    "        d[i]= min(d[i],d[i//3]+1)\n",
    "    if i%5 ==0:\n",
    "        d[i]= min(d[i],d[i//5]+1)\n",
    "    print(f'{i}번째 {d[i]}')\n",
    "print(d[x])"
   ]
  }
 ],
 "metadata": {
  "kernelspec": {
   "display_name": "Python 3.9.12 ('base')",
   "language": "python",
   "name": "python3"
  },
  "language_info": {
   "codemirror_mode": {
    "name": "ipython",
    "version": 3
   },
   "file_extension": ".py",
   "mimetype": "text/x-python",
   "name": "python",
   "nbconvert_exporter": "python",
   "pygments_lexer": "ipython3",
   "version": "3.9.12"
  },
  "orig_nbformat": 4,
  "vscode": {
   "interpreter": {
    "hash": "7166505faa8f697867ed099a47ad143e29bdea2dc2abec05983d875f808011d7"
   }
  }
 },
 "nbformat": 4,
 "nbformat_minor": 2
}
