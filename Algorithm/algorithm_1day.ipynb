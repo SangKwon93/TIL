{
 "cells": [
  {
   "cell_type": "markdown",
   "metadata": {},
   "source": [
    "# 정렬 알고리즘\n"
   ]
  },
  {
   "cell_type": "markdown",
   "metadata": {},
   "source": [
    "## 선택 정렬\n",
    "- 처리되지 않은 데이터 중에 가장 작은 데이터를 선택 해 만 앞에 있는 데이터와 바꾸는 것을 반복\n"
   ]
  },
  {
   "cell_type": "code",
   "execution_count": 57,
   "metadata": {},
   "outputs": [
    {
     "name": "stdout",
     "output_type": "stream",
     "text": [
      "[0, 1, 2, 3, 4, 5, 6, 7, 8, 9]\n"
     ]
    }
   ],
   "source": [
    "# 선택 정렬 소스 코드\n",
    "array= [7,5,9,0,3,1,6,2,4,8]\n",
    "\n",
    "for i in range(len(array)):\n",
    "    min_index=i\n",
    "    for j in range(i+1,len(array)):\n",
    "        if array[min_index]>array[j]:\n",
    "            min_index = j\n",
    "    array[i],array[min_index]=array[min_index],array[i]\n",
    "        \n",
    "print(array)"
   ]
  },
  {
   "cell_type": "markdown",
   "metadata": {},
   "source": [
    "## 삽입 정렬\n",
    "- 처리되지 않은 데이터를 하나씩 골라 적절한 위치에 삽입  \n",
    "- 선택정렬에 비해 구혀 난이도가 높은 편이지만 일반적으로 더 효율적으로 동작"
   ]
  },
  {
   "cell_type": "code",
   "execution_count": 10,
   "metadata": {},
   "outputs": [
    {
     "name": "stdout",
     "output_type": "stream",
     "text": [
      "[0, 1, 2, 3, 4, 5, 6, 7, 8, 9]\n"
     ]
    }
   ],
   "source": [
    "# 삽입 정렬 소스코드\n",
    "# 시간 복잡도 O(n2) \n",
    "# 반복문 2번 중첩되니 비교연산과 스와핑\n",
    "# 정렬이 어느정도 된 경우 시간 복잡도 O(n2)\n",
    "\n",
    "array= [7,5,9,0,3,1,6,2,4,8]\n",
    "\n",
    "for i in range(1,len(array)):\n",
    "    for j in range(i,0,-1):\n",
    "        if array[j]< array[j-1]:\n",
    "            array[j],array[j-1] = array[j-1],array[j]\n",
    "        else:\n",
    "            break\n",
    "        \n",
    "print(array)"
   ]
  },
  {
   "cell_type": "markdown",
   "metadata": {},
   "source": [
    "## 퀵 정렬 \n",
    "- 기준 데이터를 설정하고 그 기준보다 큰 데이터와 작은 데이터 위치를 바꾸는 방법  \n",
    "- 가장 많이사용되는 정렬 알고리즘이다.!  \n",
    "- 프로그래밍 언어의 정렬 라이브러리의 근간이 되는 알고리즘  \n",
    "- 퀵 정렬 - 첫번째 데이터를 기준 데이터(pivot)로 설정합니다.  "
   ]
  },
  {
   "cell_type": "markdown",
   "metadata": {},
   "source": [
    "### 원리\n",
    "첫번쨰 데이터 = pivot 데이터 - 기준점  \n",
    "(왼쪽)pivot 데이터 보다 큰 데이터를 선택  \n",
    "(오른쪽)pivot 데이터 보다 작은 데이터를 선택  "
   ]
  },
  {
   "cell_type": "markdown",
   "metadata": {},
   "source": [
    "- 첫번째 원소를 pivot으로 정한다.  \n",
    "- 왼쪽에서부터 pivot값이 큰 데이터를 찾고 오른쪽에서부터 pivot 값이 작은 데이터를 찾는다.  \n",
    "- 서로 데이터의 위치를 바꿔준다.  \n",
    "(단 위치가 엇갈리는 경우 pivot 값과 작은 데이터의 위치를 서로 변경)\n",
    "- pivot 값을 중심으로 앞 뒤로 분할된다.  \n",
    "- 표준라이브러리 활용시 O(NlogN) 시간복잡도  \n",
    "- 최악의 경우(O(N2))   "
   ]
  },
  {
   "cell_type": "code",
   "execution_count": 11,
   "metadata": {},
   "outputs": [
    {
     "name": "stdout",
     "output_type": "stream",
     "text": [
      "[0, 1, 2, 3, 4, 5, 6, 7, 8, 9]\n"
     ]
    }
   ],
   "source": [
    "# 퀵 정렬 소스코드 \n",
    "array= [5,7,9,0,3,1,6,2,4,8]\n",
    "\n",
    "def quick_sort(array,start,end):\n",
    "    if start>= end: # 원소가 1개인 경우 종료\n",
    "        return\n",
    "    pivot = start #피벗은 첫번째 원소\n",
    "    left = start+1\n",
    "    right=end\n",
    "    while left <= right:\n",
    "        # 피벗보다 큰 데이터를 찾을 때까지 반복\n",
    "        while(left <= end and array[left]<=array[pivot]):\n",
    "            left +=1\n",
    "        # 피벗보다 작은 데이터를 찾을 때까지 반복    \n",
    "        while(right > start and array[right]>=array[pivot]):\n",
    "            right -=1\n",
    "        # 엇갈렸다면 작은 데이터와 피벗을 교체\n",
    "        if left > right:\n",
    "            array[right],array[pivot]=array[pivot],array[right]\n",
    "        # 엇갈리지 않았다면 작은 데이터와 큰 데이터를 교체\n",
    "        else:\n",
    "            array[left],array[right]=array[right],array[left]\n",
    "    # 분할 이후 왼쪽부분과 오른쪽부부에서 각각 정렬 수행\n",
    "    quick_sort(array,start,right-1)\n",
    "    quick_sort(array,right+1,end)\n",
    "\n",
    "quick_sort(array,0,len(array)-1)\n",
    "print(array)"
   ]
  },
  {
   "cell_type": "code",
   "execution_count": 15,
   "metadata": {},
   "outputs": [
    {
     "name": "stdout",
     "output_type": "stream",
     "text": [
      "[0, 1, 2, 3, 4, 5, 6, 7, 8, 9]\n"
     ]
    }
   ],
   "source": [
    "# 퀵 정렬 소스코드 - 파이썬 활용편\n",
    "array= [5,7,9,0,3,1,6,2,4,8]\n",
    "\n",
    "def quick_sort(array):\n",
    "    if len(array)<=1:\n",
    "        return array\n",
    "    pivot=array[0] # 피벗\n",
    "    tail=array[1:] # 피벗 제외한 리스트\n",
    "    \n",
    "    left_side=[x for x in tail if x <= pivot]\n",
    "    right_side=[x for x in tail if x>pivot]\n",
    "    \n",
    "    # 분할 이후 왼쪽부분과 오른쪽 부분에서 각각 정렬 수행하고, 전체 리스트 반환\n",
    "    return quick_sort(left_side) + [pivot] + quick_sort(right_side)\n",
    "    \n",
    "print(quick_sort(array))\n",
    "    \n",
    "    \n",
    "    \n",
    "    \n",
    "    \n",
    "    \n",
    "    "
   ]
  },
  {
   "cell_type": "markdown",
   "metadata": {},
   "source": [
    "## 계수 정렬    \n",
    "- 특정한 조건이 부합할 때만 사용할 수 있지만 **매우 빠르게 동작하는 정렬 알고리즘**이다.    \n",
    "- 계수 정렬은 데이터의 크기 범위가 제한되어 정수 형태로 표현 할 수 있을 때 사용 가능하다.    \n",
    "- 데이터의 개수가 N 데이터(양수)중 최댓값이 K일때 최악의 경우에도 수행시간은 O(N+K)를 보장한다.    "
   ]
  },
  {
   "cell_type": "code",
   "execution_count": 32,
   "metadata": {},
   "outputs": [
    {
     "name": "stdout",
     "output_type": "stream",
     "text": [
      "001122345567899"
     ]
    }
   ],
   "source": [
    "#계수 정렬 소스코드\n",
    "array=[7,5,9,0,3,1,6,2,9,1,4,8,0,5,2]\n",
    "\n",
    "# 모든 범위를 포함하는 리스트 선언(모든 값은 0으로 초기화)\n",
    "count=[0]*(max(array)+1)\n",
    "\n",
    "# 각 데이터에 해당하는 인덱스의 값 증가\n",
    "for i in range(len(array)):\n",
    "    count[array[i]] +=1\n",
    "\n",
    "#print(count)    \n",
    "for i in range(len(count)): # 리스트에 기록된 정렬 정보 확인\n",
    "    for j in range(count[i]):\n",
    "        # 뛰어쓰기를 구분으로 등장한 횟수만큼 인덱스 출력\n",
    "        print(i,end='')"
   ]
  },
  {
   "cell_type": "markdown",
   "metadata": {},
   "source": [
    "계수 정렬의 복잡도 분석  \n",
    "계수 정렬의 시간 복잡도와 공간복잡도 O(N+K)  \n",
    "계수 정렬은 동일한 값을 가지는 데이터가 여러 개 등장할 때 효과적이다.  \n",
    "ex) 성적의 경우 계수정렬 효과적  \n",
    "ex) 심각한 비효율성 예시 (0,999999)만 있을 경우  "
   ]
  },
  {
   "cell_type": "markdown",
   "metadata": {},
   "source": [
    "# 정렬 알고리즘 비교하기\n",
    "알고리즘   평균 시간 복잡도  공간 복잡도   \n",
    "선택정렬 :  O(N2)    O(N)        아이디어가 매우 간단  \n",
    "삽입정렬 :  O(N2)    O(N)        데이터가 거의 정렬되어 있을 때는 가장 빠르다  \n",
    "퀵 정렬  :  O(NlogN)  O(N)       대부분의 경우에 가장 적합하여 충분히 빠르다  \n",
    "계수 정렬  : O(N+k)   O(N+k)     데이터의 크기가 한정되어 있는 경우에만 사용이 가능하지만 매우 빠르게 동작  "
   ]
  },
  {
   "cell_type": "markdown",
   "metadata": {},
   "source": [
    "# [문제] 두 배열 원소 교체: 문제 해결 아이디어\n",
    "계획\n",
    "- (핵심) 매번 배열 A에서 가장 작은 원소를 골라서 배열 B에서 가장 큰 원소와 교체한다.\n",
    "- 정렬 알고리즘 활용\n",
    "1. 가장 먼저 A 오름차순, B 내림차순\n",
    "2. 첫번째 인덱스부터 차례로 확인하며 A의 원소가 B의 원소보다 작을 때 교체 진행\n"
   ]
  },
  {
   "cell_type": "code",
   "execution_count": null,
   "metadata": {},
   "outputs": [],
   "source": [
    "n,k=map(int,input().split())\n",
    "a=list(map(int,input().split()))\n",
    "b=list(map(int,input().split()))\n",
    "\n",
    "# 정렬\n",
    "a.sort()\n",
    "b.sort(reverse=True)\n",
    "\n",
    "# K번 비교\n",
    "for i in range(k):\n",
    "    if a[i]<b[i]:\n",
    "        a[i],b[i]=b[i],a[i]\n",
    "    else:\n",
    "        break\n",
    "\n",
    "print(sum(a))"
   ]
  },
  {
   "cell_type": "markdown",
   "metadata": {},
   "source": [
    "## DFS (Depth-First Search)\n",
    "- 깊이 우선 탐색\n",
    "- 깊은 부분을 우선적으로 탐색하는 알고리즘\n",
    "1. 탐색 시작 노드를 스택에 삽입하고 방문 처리\n",
    "2. 스택의 최상단 노드에 방문하지 않은 인접한 노드가 하나라도 있으면 그 노드를 스택에 넣고 방문\n",
    "3. 더 이상 2번의 과정을 수행 할 수 없을 때까지 반복\n"
   ]
  },
  {
   "cell_type": "code",
   "execution_count": 51,
   "metadata": {},
   "outputs": [
    {
     "name": "stdout",
     "output_type": "stream",
     "text": [
      "12768345"
     ]
    }
   ],
   "source": [
    "# DFS 메서드 정의\n",
    "def dfs(graph,v,visted):\n",
    "    visited[v]=True\n",
    "    print(v,end='')\n",
    "    # 현재 노드와 연결된 다른 노드를 재귀적으로 방문\n",
    "    for i in graph[v]:\n",
    "        if not visted[i]:\n",
    "            dfs(graph,i,visited)\n",
    "\n",
    "graph=[\n",
    "    [],\n",
    "    [2,3,8],\n",
    "    [1,7],\n",
    "    [1,4,5],\n",
    "    [3,5],\n",
    "    [3,4],\n",
    "    [7],\n",
    "    [2,6,8],\n",
    "    [1,7]\n",
    "]\n",
    "\n",
    "visited=[False]*9\n",
    "\n",
    "dfs(graph,1,visited)"
   ]
  },
  {
   "cell_type": "markdown",
   "metadata": {},
   "source": [
    "## BFS (Breath-First Search)\n",
    "- 너비 우선 탐색\n",
    "- 그래프에서 가까운 노드부터 우선적으로 탐색하는 알고리즘\n",
    "- **큐 자료구조** 활용\n",
    "1. 탐색 시작 노드를 큐에 삽입하고 방문 처리를 합니다.\n",
    "2. 큐에서 노드를 꺼낸 뒤에 해당 노드의 인접노드 중에서 방문하지 않은 노드를 **모두 큐에 삽입하고 방문처리**\n",
    "3. 더 이상 2번의 과정을 수행 할 수 없을 때까지 반복합니다.  \n",
    "    **대기업 코딩테스트 자주 출제**\n",
    "- 특정조건에서의 최단경로 문제 해결하기 위한 목적으로  "
   ]
  },
  {
   "cell_type": "code",
   "execution_count": 54,
   "metadata": {},
   "outputs": [
    {
     "name": "stdout",
     "output_type": "stream",
     "text": [
      "12387456"
     ]
    }
   ],
   "source": [
    "#BFS 소스코드\n",
    "from collections import deque\n",
    "\n",
    "def bfs(graph, start,visited):\n",
    "    # 큐 구현을 위해 deque 라이브러리 사용\n",
    "    queue=deque([start])\n",
    "    # 현재 노드를 방문 처리\n",
    "    visited[start]=True\n",
    "    # 큐가 빌 때까지 반복\n",
    "    while queue:\n",
    "        # 큐에서 하나의 원소를 뽑아 출력하기\n",
    "        v=queue.popleft()\n",
    "        print(v,end='')\n",
    "        # 아직 방문하지 않은 인접한 원소들을 큐에 삽입\n",
    "        for i in graph[v]:\n",
    "            if not visited[i]:\n",
    "                queue.append(i)\n",
    "                visited[i]=True\n",
    "                \n",
    "\n",
    "graph=[\n",
    "    [],\n",
    "    [2,3,8],\n",
    "    [1,7],\n",
    "    [1,4,5],\n",
    "    [3,5],\n",
    "    [3,4],\n",
    "    [7],\n",
    "    [2,6,8],\n",
    "    [1,7]\n",
    "]\n",
    "\n",
    "visited=[False]*9\n",
    "\n",
    "bfs(graph,1,visited)"
   ]
  },
  {
   "cell_type": "markdown",
   "metadata": {},
   "source": [
    "# [문제] 음료수 얼려 먹기\n",
    "- 첫번째 줄에 얼음 틀의 세로 길이 N과 가로 길이 M이 주어진다.  \n",
    "- 두번째 줄부터 N+1번째 줄까지 얼음 틀의 형태가 주어진다.  \n",
    "- 이때 구멍이 뚫려있는 부분은 0, 그렇지 않은 부분은 1입니다.  \n",
    "**문제** 한번에 만들수 있는 아이스크림의 개수는? "
   ]
  },
  {
   "cell_type": "code",
   "execution_count": null,
   "metadata": {},
   "outputs": [],
   "source": [
    "# DFS로 특정 노드를 방문하고 연결된 모든 노드들도 방문\n",
    "def dfs(x,y):\n",
    "    # 주어진 범위를 벗어나는 경우 즉시 종료\n",
    "    if x <=-1 or x>=n or y<=-1 or y>=m:\n",
    "        return False\n",
    "    # 현재 노드를 아직 방문하지 않았다면\n",
    "    if graph[x][y] ==0:\n",
    "        graph[x][y]=1\n",
    "        dfs(x-1,y)\n",
    "        dfs(x,y-1)\n",
    "        dfs(x+1,y)\n",
    "        dfs(x,y+1)\n",
    "        return True\n",
    "    return False\n",
    "\n",
    "# N,M을 공백을 기준으로 구분하여 입력 받기\n",
    "n,m = map(int,input().split())\n",
    "\n",
    "# 2차원 리스트의 맵 정보 입력 받기\n",
    "graph=[]\n",
    "for i in range[n]:\n",
    "    graph.append(list(map(int,input())))\n",
    "\n",
    "# 모든 노드에 대하여 음료수 채우기\n",
    "result=0\n",
    "for i in range(n):\n",
    "    for j in range(m):\n",
    "        # 현재 위치에서 DFS 수행\n",
    "        if dfs(i,j) == True:\n",
    "            result +=1\n",
    "            \n",
    "print(result) "
   ]
  },
  {
   "cell_type": "code",
   "execution_count": null,
   "metadata": {},
   "outputs": [],
   "source": []
  },
  {
   "cell_type": "code",
   "execution_count": null,
   "metadata": {},
   "outputs": [],
   "source": []
  }
 ],
 "metadata": {
  "kernelspec": {
   "display_name": "Python 3.9.12 ('base')",
   "language": "python",
   "name": "python3"
  },
  "language_info": {
   "codemirror_mode": {
    "name": "ipython",
    "version": 3
   },
   "file_extension": ".py",
   "mimetype": "text/x-python",
   "name": "python",
   "nbconvert_exporter": "python",
   "pygments_lexer": "ipython3",
   "version": "3.9.12"
  },
  "orig_nbformat": 4,
  "vscode": {
   "interpreter": {
    "hash": "7166505faa8f697867ed099a47ad143e29bdea2dc2abec05983d875f808011d7"
   }
  }
 },
 "nbformat": 4,
 "nbformat_minor": 2
}
